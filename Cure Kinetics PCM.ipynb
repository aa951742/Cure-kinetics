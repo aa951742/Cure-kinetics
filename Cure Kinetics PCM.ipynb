{
  "nbformat": 4,
  "nbformat_minor": 0,
  "metadata": {
    "kernelspec": {
      "display_name": "Python 3",
      "language": "python",
      "name": "python3"
    },
    "language_info": {
      "codemirror_mode": {
        "name": "ipython",
        "version": 3
      },
      "file_extension": ".py",
      "mimetype": "text/x-python",
      "name": "python",
      "nbconvert_exporter": "python",
      "pygments_lexer": "ipython3",
      "version": "3.6.6"
    },
    "latex_envs": {
      "LaTeX_envs_menu_present": true,
      "autoclose": false,
      "autocomplete": true,
      "bibliofile": "biblio.bib",
      "cite_by": "apalike",
      "current_citInitial": 1,
      "eqLabelWithNumbers": true,
      "eqNumInitial": 1,
      "hotkeys": {
        "equation": "Ctrl-E",
        "itemize": "Ctrl-I"
      },
      "labels_anchors": false,
      "latex_user_defs": false,
      "report_style_numbering": false,
      "user_envs_cfg": false
    },
    "colab": {
      "name": "Cure Kinetics PCM.ipynb",
      "provenance": []
    }
  },
  "cells": [
    {
      "cell_type": "markdown",
      "metadata": {
        "id": "BfWQ8JVLMm3H"
      },
      "source": [
        "# Cure Kinetics (21 points)"
      ]
    },
    {
      "cell_type": "markdown",
      "metadata": {
        "id": "pCar7QstMm3K"
      },
      "source": [
        "#### Thermoset resins, like epoxy, cure via chemical reactions. These reactions lead to covalent bonds being formed between monomers, forming the polymer. This process of curing is described as the degree of cure $\\alpha$. Before any covalent bond is formed, the material exists solely out of monomers. In this case, it can be said that no convergence has happened and thus $\\alpha = 0$. After adding hardener, the bonding of these monomers begins to form polymer chains. Once all monomers are attached to a polymer chain, via the mentioned covalent bonds, it can be said that the degree of cure $\\alpha = 1$.\n",
        "\n",
        "#### Chemical reactions occur through contact of two reactants. If these two reactants have more kinetic energy, they vibrate more. Then, it can be assumed that the number of collisions between two neighboring reactents will increase as well. Since temperature is movement on the microscale, an increase in temperature will have an effect on the curing of the thermoset. Also, when more time is given to two reactants, the probability of a necessary collision for bonding increases.\n",
        "#### Therefore, we can say that the degree of cure $\\alpha$ is a function of both temperature and time. $$\\alpha = f(T,t)$$"
      ]
    },
    {
      "cell_type": "markdown",
      "metadata": {
        "id": "ijnVG5chMm3L"
      },
      "source": [
        "#### Cure kinetics is concerned with the rates of the chemical reactions in a curing process. This is important, since the cure kinetics can help predict the thermoset cure and therefore also determines the manufacturing process and (partially) the final material properties. When cure kinetics are understood, they can be used to predict the degree of cure $\\alpha$ of a certain process. To make a prediction like this, DSC measurement data can be used. The DSC process is explained in the lecture."
      ]
    },
    {
      "cell_type": "markdown",
      "metadata": {
        "id": "ar1C2eaNMm3M"
      },
      "source": [
        "### Question 1 (1 point)\n",
        "#### Attached are several .txt files which contain raw isothermal DSC measurements for different temperatures. In the cell below, plot the relevant DSC measurement data for all of these cases in a single figure. Don't forget to lable the axis (ylabel = H[W/g]), include units, and add a legend.\n",
        "#### Note: if you edit the .txt files, be sure to include them when handing in this assignment."
      ]
    },
    {
      "cell_type": "code",
      "metadata": {
        "id": "nYHV229xMm3M"
      },
      "source": [
        "#import packages here\n",
        "import numpy as np"
      ],
      "execution_count": null,
      "outputs": []
    },
    {
      "cell_type": "code",
      "metadata": {
        "id": "oeZqc23aMm3N"
      },
      "source": [
        ""
      ],
      "execution_count": null,
      "outputs": []
    },
    {
      "cell_type": "markdown",
      "metadata": {
        "id": "lBJHelKNMm3N"
      },
      "source": [
        "### Question 2 (2 points)\n",
        "#### In the cell below, explain why and how isothermal DSC measurement data can be related to the curing rate of a thermoset resin. What happens at the peak?"
      ]
    },
    {
      "cell_type": "markdown",
      "metadata": {
        "id": "34RBz1UOMm3O"
      },
      "source": [
        "Answer here (double click to open)"
      ]
    },
    {
      "cell_type": "markdown",
      "metadata": {
        "id": "6y28w_omMm3O"
      },
      "source": [
        "#### As mentioned, the isothermal DSC data you just plotted can be used to obtain an estimation of degree of cure $\\alpha$ vs. time $t$. To do this, it first has to be assumed that the heatflow is proportional to the degree of cure. $$\\Delta H_{max} \\equiv \\alpha = 1$$\n",
        "#### Then, this assumption is used to normalize the heatflow measurement. This normalized heatflow can now be related to the curing rate. $$\\frac{d\\alpha}{dt} = \\frac{1}{\\Delta H{max}} \\frac{dH(t)}{dt}$$\n",
        "#### Finally, integrating this result leads to the relationship of the degree of cure $\\alpha$ vs. time $t$."
      ]
    },
    {
      "cell_type": "markdown",
      "metadata": {
        "id": "-j3a9v1kMm3P"
      },
      "source": [
        "### Question 3 (4 points)\n",
        "#### Use the information above to plot the degree of cure $\\alpha$ vs. time $t$, using the provided data. Plot all cases in a single figure. Make sure to plot over a time interval which suits the results, include a legend and axes labels with units."
      ]
    },
    {
      "cell_type": "code",
      "metadata": {
        "id": "G2eRrWUIMm3P"
      },
      "source": [
        ""
      ],
      "execution_count": null,
      "outputs": []
    },
    {
      "cell_type": "markdown",
      "metadata": {
        "id": "1LC2gOT0Mm3Q"
      },
      "source": [
        "### Question 4 (2 points)\n",
        "#### From your results of Question 3, you now have graphs which show degree of cure $\\alpha$ vs. time $t$ for three different temperatures. Comment on the maximum degree of cure, which should be interpretable from the graphs. Why is the final degree of cure lower for a lower curing temperature?"
      ]
    },
    {
      "cell_type": "markdown",
      "metadata": {
        "id": "qtrTMIw1Mm3Q"
      },
      "source": [
        "Answer here"
      ]
    },
    {
      "cell_type": "markdown",
      "metadata": {
        "id": "i3WyE55cMm3Q"
      },
      "source": [
        "#### Several kinetics models exist which predict the curing rate of a resin. An example of one of the widely used models is the Kamal model, shown below. $$\\frac{d\\alpha}{dt} = (k_1 + k_2 \\cdot \\alpha^m)(1 - \\alpha)^n$$\n",
        "#### Where $k_1$ and $k_2$ are rate constants, and  $m$ and $n$ are reaction orders."
      ]
    },
    {
      "cell_type": "markdown",
      "metadata": {
        "id": "mfKZiEcaMm3Q"
      },
      "source": [
        "### Question 5 (4 points)\n",
        "#### Use the experimental isothermal DSC data to estimate the parameters of the Kamal model. After obtaining these parameters, use them to create plots of conversion rate $d\\alpha/dt$ vs. degree of conversion $\\alpha$. Report the estimated parameters. Compare the results with the experimental results of $d\\alpha/dt$ vs. $\\alpha$. Do this for all 3 isothermal measurements.\n",
        "#### Tip: Parameters can be estimated by: 1. making an inital guess of the parameters. 2. Minimizing the sum of squared errors between guess and data (fit to data), where $m, n, k1, k2$ should be the same for the three datasets."
      ]
    },
    {
      "cell_type": "code",
      "metadata": {
        "id": "chICkHL8Mm3R"
      },
      "source": [
        ""
      ],
      "execution_count": null,
      "outputs": []
    },
    {
      "cell_type": "markdown",
      "metadata": {
        "id": "qZfveeVOMm3R"
      },
      "source": [
        "### Question 6 (4 points)\n",
        "#### As mentioned, the Kamal model is an example of a widely used cure kinetics model. Search online for a different cure kinetics model. Briefly discuss this model and its parameters. Now, estimate the parameters of your chosen model and compare the resulting plot to the Kamal model and the experimental data in the form of graphs. Plot all graphs in a single figure for good comparison.\n",
        "#### NB: this time only the 150C case has to be considered."
      ]
    },
    {
      "cell_type": "code",
      "metadata": {
        "id": "Q6ZXvFZAMm3R"
      },
      "source": [
        ""
      ],
      "execution_count": null,
      "outputs": []
    },
    {
      "cell_type": "markdown",
      "metadata": {
        "id": "cuj0mqY-Mm3R"
      },
      "source": [
        "#### As adressed at the start of this Notebook, thermoset polymers need to undergo a curing cycle to harden. During this curing cycle, covalent bonds are formed between monomers, forming the polymers. When not many bonds (crosslinks) have formed, the glass transition temperature of the material is relatively low. Once bonds form, the glass transition temperature increases. This can be indirectly observed by noticing that there is a change in state of a thermoset resin during the curing cycle."
      ]
    },
    {
      "cell_type": "markdown",
      "metadata": {
        "id": "JaH8FxArMm3R"
      },
      "source": [
        "### Question 7 (2 points)\n",
        "#### Describe the glass transition temperature. Explain what happens (on a microscale level) with a material when it transitions through this value. Why is this value dependent on the degree of cure?"
      ]
    },
    {
      "cell_type": "markdown",
      "metadata": {
        "id": "HoUxV-dRMm3S"
      },
      "source": [
        "Answer here"
      ]
    },
    {
      "cell_type": "markdown",
      "metadata": {
        "id": "I47-CuhrMm3S"
      },
      "source": [
        "#### For a thermosetting polymer, the following relation can be derived between the glass transition temperature $T_g$ and conversion $\\alpha$. Equation 5 is called the Di Benedetto equation. \n",
        "$$ \\frac{T_g - T_{g0}}{T_{g\\infty} - T_{g0}} =  \\frac{\\lambda \\alpha}{1 - (1 - \\lambda)\\alpha}  $$\n",
        "\n",
        "#### For which $\\lambda = \\frac{\\Delta C_p}{\\Delta C_{p0}}$ is the ratio of the heat capacities of the fully reacted system and the initial system (therefore $\\lambda < 1$), $T_{g\\infty}$ is the Tg of the fully reacted system, and $T_{g0}$ is the Tg of the initial system."
      ]
    },
    {
      "cell_type": "markdown",
      "metadata": {
        "id": "B9RBN-KAMm3S"
      },
      "source": [
        "### Question 8 (2 points)\n",
        "\n",
        "#### Attached is a dataset containing Tg vs. convergence. The tested material is Airstone 780E.\n",
        "#### Write a single function which takes the material characteristics $T_{g\\infty}$, $T_{g0}$, and $\\lambda$ as input arguments and returns a graph of the glass transition temperature $T_g$ vs. convergence $\\alpha$. Then, plot this function and the Airstone 780E data in the same graph to compare the analytical model with the measurements.\n",
        "\n",
        "#### $T_{g0}$ = -54.577, $T_{g\\infty}$ = 88.853, $\\lambda$ = 0.476."
      ]
    },
    {
      "cell_type": "code",
      "metadata": {
        "id": "m01Sgb9zMm3S"
      },
      "source": [
        ""
      ],
      "execution_count": null,
      "outputs": []
    },
    {
      "cell_type": "code",
      "metadata": {
        "id": "lbopZYzgMm3S"
      },
      "source": [
        ""
      ],
      "execution_count": null,
      "outputs": []
    }
  ]
}